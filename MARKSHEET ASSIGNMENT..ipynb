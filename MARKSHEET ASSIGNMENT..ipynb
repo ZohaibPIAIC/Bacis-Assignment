{
 "cells": [
  {
   "cell_type": "code",
   "execution_count": 4,
   "metadata": {},
   "outputs": [
    {
     "name": "stdout",
     "output_type": "stream",
     "text": [
      "Your total marks are 416\n",
      "Your grade is 83.2\n",
      "Marks in English are 92\n",
      "Marks in Maths are 98\n",
      "Marks in Urdu are 85\n",
      "Marks in Chemistry are 65\n",
      "Marks in Physics are 76\n",
      "Your grade is A\n"
     ]
    }
   ],
   "source": [
    "subjects = (\"English\", \"Math\", \"Urdu\", \"Chemistry\", \"Physics\")\n",
    "marks = (92, 98, 85, 65, 76)\n",
    "total = marks[0] + marks[1] + marks[2] + marks[3] + marks[4]\n",
    "grade = total/5\n",
    "print(\"Your total marks are\", total)\n",
    "print(\"Your grade is\", grade)\n",
    "print(\"Marks in\", \"English\", \"are\", 92)\n",
    "print(\"Marks in\", \"Maths\", \"are\", 98)\n",
    "print(\"Marks in\", \"Urdu\", \"are\", 85)\n",
    "print(\"Marks in\", \"Chemistry\", \"are\", 65)\n",
    "print(\"Marks in\", \"Physics\", \"are\", 76)\n",
    "\n",
    "if grade > 90:\n",
    "    print(\"Your grade is A+\")\n",
    "elif grade > 80:\n",
    "    print(\"Your grade is A\")\n",
    "elif grade > 70:\n",
    "    print(\"Your grade is B\")\n",
    "else:\n",
    "    print(\"You are fail\")\n",
    "          "
   ]
  },
  {
   "cell_type": "code",
   "execution_count": null,
   "metadata": {},
   "outputs": [],
   "source": []
  }
 ],
 "metadata": {
  "kernelspec": {
   "display_name": "Python 3",
   "language": "python",
   "name": "python3"
  },
  "language_info": {
   "codemirror_mode": {
    "name": "ipython",
    "version": 3
   },
   "file_extension": ".py",
   "mimetype": "text/x-python",
   "name": "python",
   "nbconvert_exporter": "python",
   "pygments_lexer": "ipython3",
   "version": "3.7.3"
  }
 },
 "nbformat": 4,
 "nbformat_minor": 2
}

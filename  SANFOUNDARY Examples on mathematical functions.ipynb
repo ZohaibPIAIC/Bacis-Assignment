{
 "cells": [
  {
   "cell_type": "code",
   "execution_count": 2,
   "metadata": {},
   "outputs": [
    {
     "name": "stdout",
     "output_type": "stream",
     "text": [
      "Enter the date:20/09/2020\n",
      "The incremented date is: 21 9 2020\n"
     ]
    }
   ],
   "source": [
    "# Python Program to Check if a Date is Valid and Print the Incremented Date if it is.\n",
    "date = input(\"Enter the date:\")\n",
    "dd, mm, yy = date.split(\"/\")\n",
    "dd = int(dd)\n",
    "mm = int(mm)\n",
    "yy = int(yy)\n",
    "if(mm == 1 or mm == 3 or mm == 5 or mm == 7 or mm == 8 or mm == 10 or mm == 12):\n",
    "    max1 = 31\n",
    "elif(mm == 4 or mm == 6 or mm == 9 or mm == 11):\n",
    "    max1 = 30\n",
    "elif(yy % 4 == 0 and yy % 100 != 0 or yy % 400 == 0):\n",
    "    max1 = 29\n",
    "else:\n",
    "    max1 = 28\n",
    "if(mm < 1 or mm > 12):\n",
    "    print(\"Date is invalid.\")\n",
    "elif(dd < 1 or dd > max1):\n",
    "    print(\"Date is invalid.\")\n",
    "elif(dd == max1 and mm != 12):\n",
    "    dd = 1\n",
    "    mm = mm + 1\n",
    "    yy = yy + 1\n",
    "    print(\"The incremented date is:\", dd, mm, yy)\n",
    "else:\n",
    "    dd = dd + 1\n",
    "    print(\"The incremented date is:\", dd, mm, yy)\n",
    "\n"
   ]
  },
  {
   "cell_type": "code",
   "execution_count": 3,
   "metadata": {},
   "outputs": [
    {
     "name": "stdout",
     "output_type": "stream",
     "text": [
      "Enter year to be checked:2020\n",
      "The year is a leap year!\n"
     ]
    }
   ],
   "source": [
    "# Python Program to Check Whether a Given Year is a Leap Year.\n",
    "year = int(input(\"Enter year to be checked:\"))\n",
    "if(year % 4 == 0 and year % 100 != 0 or year % 400 == 0):\n",
    "    print(\"The year is a leap year!\")\n",
    "else:\n",
    "    print(\"The year is not a leap year!\")"
   ]
  },
  {
   "cell_type": "code",
   "execution_count": 4,
   "metadata": {},
   "outputs": [
    {
     "name": "stdout",
     "output_type": "stream",
     "text": [
      "Enter the height in centimeters:25\n",
      "The length in inches 9.85\n",
      "The length in feet 0.82\n"
     ]
    }
   ],
   "source": [
    "# Python Program to Read Height in Centimeters and then Convert the Height to Feet and Inches.\n",
    "cm = int(input(\"Enter the height in centimeters:\"))\n",
    "inches = 0.394 * cm\n",
    "feet = 0.0328 * cm\n",
    "print(\"The length in inches\", round(inches, 2))\n",
    "print(\"The length in feet\", round(feet, 2))"
   ]
  },
  {
   "cell_type": "code",
   "execution_count": null,
   "metadata": {},
   "outputs": [],
   "source": []
  }
 ],
 "metadata": {
  "kernelspec": {
   "display_name": "Python 3",
   "language": "python",
   "name": "python3"
  },
  "language_info": {
   "codemirror_mode": {
    "name": "ipython",
    "version": 3
   },
   "file_extension": ".py",
   "mimetype": "text/x-python",
   "name": "python",
   "nbconvert_exporter": "python",
   "pygments_lexer": "ipython3",
   "version": "3.7.3"
  }
 },
 "nbformat": 4,
 "nbformat_minor": 2
}
